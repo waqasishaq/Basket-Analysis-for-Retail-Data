{
 "cells": [
  {
   "cell_type": "code",
   "execution_count": 1,
   "metadata": {},
   "outputs": [],
   "source": [
    "from pyspark.sql import SparkSession\n",
    "from pyspark.sql.types import *\n",
    "from pyspark.sql.functions import sum, month, year, countDistinct, avg, round\n",
    "import os"
   ]
  },
  {
   "cell_type": "code",
   "execution_count": 2,
   "metadata": {},
   "outputs": [],
   "source": [
    "## create a SparkSession\n",
    "SUBMIT_ARGS = \"--jars /Users/HAmin/JDBC/mysql-connector-java-8.0.12.jar pyspark-shell\"\n",
    "os.environ[\"PYSPARK_SUBMIT_ARGS\"] = SUBMIT_ARGS\n",
    "\n",
    "spark = SparkSession \\\n",
    "    .builder \\\n",
    "    .appName(\"join_file_with_mysql\") \\\n",
    "    .config(\"spark.shuffle.service.enabled\",\"true\") \\\n",
    "    .config(\"spark.dynamicAllocation.enabled\",\"true\") \\\n",
    "    .config(\"spark.executor.cores\",\"5\") \\\n",
    "    .getOrCreate()"
   ]
  },
  {
   "cell_type": "code",
   "execution_count": 3,
   "metadata": {},
   "outputs": [
    {
     "name": "stdout",
     "output_type": "stream",
     "text": [
      "+------+--------+\n",
      "|SIZEID|SIZENAME|\n",
      "+------+--------+\n",
      "|     1|   50 mL|\n",
      "|     2|  100 mL|\n",
      "|     3|  187 mL|\n",
      "|     4|  200 mL|\n",
      "|     5|  375 mL|\n",
      "|     6|  500 mL|\n",
      "|     7|  750 mL|\n",
      "|     8|    1 Lt|\n",
      "|     9|  1.5 Lt|\n",
      "|    10| 1.75 Lt|\n",
      "|    11|    3 Lt|\n",
      "|    12|    4 Lt|\n",
      "|    13|    5 Lt|\n",
      "|    14|    7 Oz|\n",
      "|    15|   12 Oz|\n",
      "|    16|   16 Oz|\n",
      "|    17|   20 Oz|\n",
      "|    18|   32 Oz|\n",
      "|    19|   64 Oz|\n",
      "|    20|   22 Oz|\n",
      "+------+--------+\n",
      "only showing top 20 rows\n",
      "\n"
     ]
    }
   ],
   "source": [
    "## create a DataFrame for the MySQL customer table\n",
    "df_size = spark.read.format(\"jdbc\").options(\n",
    "    url =\"jdbc:mysql://localhost:3306/ProjectData?useLegacyDatetimeCode=false&serverTimezone=UTC\",\n",
    "    driver=\"com.mysql.jdbc.Driver\",\n",
    "    dbtable=\"size\",\n",
    "    user=\"root\",\n",
    "    password=\"theAlchemist\"\n",
    ").load()\n",
    " \n",
    "## register the customers data as a temporary table\n",
    "df_size.registerTempTable(\"size\")\n",
    "df_size.show()\n"
   ]
  },
  {
   "cell_type": "code",
   "execution_count": 4,
   "metadata": {},
   "outputs": [
    {
     "name": "stdout",
     "output_type": "stream",
     "text": [
      "root\n",
      " |-- SKU: integer (nullable = true)\n",
      " |-- ITEMNAME: string (nullable = true)\n",
      " |-- ITEMTYPE: integer (nullable = true)\n",
      " |-- VINTAGE: string (nullable = true)\n",
      " |-- PRICEPERUNIT: double (nullable = true)\n",
      " |-- TOTALQTY: integer (nullable = true)\n",
      " |-- CATID: integer (nullable = true)\n",
      " |-- DEPID: integer (nullable = true)\n",
      " |-- PACKID: string (nullable = true)\n",
      " |-- SIZEID: string (nullable = true)\n",
      " |-- NONTAXABLE: integer (nullable = true)\n",
      " |-- TAX1: integer (nullable = true)\n",
      " |-- NONACTIVE: integer (nullable = true)\n",
      " |-- ITEMLEVEL: integer (nullable = true)\n",
      " |-- CONTROLSKU: string (nullable = true)\n",
      " |-- KEYWORD: string (nullable = true)\n",
      "\n"
     ]
    }
   ],
   "source": [
    "df_itemlist = spark.read.format(\"jdbc\").options(\n",
    "    url =\"jdbc:mysql://localhost:3306/ProjectData?useLegacyDatetimeCode=false&serverTimezone=UTC\",\n",
    "    driver=\"com.mysql.jdbc.Driver\",\n",
    "    dbtable=\"itemlist\",\n",
    "    user=\"root\",\n",
    "    password=\"theAlchemist\"\n",
    ").load()\n",
    " \n",
    "## register the customers data as a temporary table\n",
    "df_itemlist.registerTempTable(\"itemlist\")\n",
    "df_itemlist.printSchema()"
   ]
  },
  {
   "cell_type": "code",
   "execution_count": 5,
   "metadata": {},
   "outputs": [],
   "source": [
    "pandaitemlist = df_itemlist.toPandas()"
   ]
  },
  {
   "cell_type": "code",
   "execution_count": 9,
   "metadata": {},
   "outputs": [
    {
     "name": "stdout",
     "output_type": "stream",
     "text": [
      "root\n",
      " |-- TXNID: long (nullable = true)\n",
      " |-- TSEQNUM: integer (nullable = true)\n",
      " |-- ACCESSLOGNUM: integer (nullable = true)\n",
      " |-- CUSTOMERID: string (nullable = true)\n",
      " |-- TXNDATE: timestamp (nullable = true)\n",
      " |-- TAX1RATE: double (nullable = true)\n",
      " |-- TAXABLE1AMT: double (nullable = true)\n",
      " |-- SUBTOTAL: double (nullable = true)\n",
      " |-- TAX1TOTAL: string (nullable = true)\n",
      " |-- SAVINGS: double (nullable = true)\n",
      " |-- NETPAYABLE: double (nullable = true)\n",
      "\n"
     ]
    }
   ],
   "source": [
    "df_txninfo = spark.read.format(\"jdbc\").options(\n",
    "    url =\"jdbc:mysql://localhost:3306/ProjectData?useLegacyDatetimeCode=false&serverTimezone=UTC\",\n",
    "    driver=\"com.mysql.jdbc.Driver\",\n",
    "    dbtable=\"transaction_info\",\n",
    "    user=\"root\",\n",
    "    password=\"theAlchemist\"\n",
    ").load()\n",
    " \n",
    "## register the customers data as a temporary table\n",
    "df_txninfo.registerTempTable(\"txninfo\")\n",
    "df_txninfo.printSchema()"
   ]
  },
  {
   "cell_type": "code",
   "execution_count": null,
   "metadata": {},
   "outputs": [],
   "source": []
  },
  {
   "cell_type": "code",
   "execution_count": 6,
   "metadata": {},
   "outputs": [
    {
     "name": "stdout",
     "output_type": "stream",
     "text": [
      "root\n",
      " |-- TXNITEM_ID: integer (nullable = true)\n",
      " |-- SKU: integer (nullable = true)\n",
      " |-- TXNID: long (nullable = true)\n",
      " |-- ITEMPRICE: double (nullable = true)\n",
      " |-- SELLPRICE: double (nullable = true)\n",
      " |-- QTYBEFORE: string (nullable = true)\n",
      " |-- QUANTITY: double (nullable = true)\n",
      " |-- COST: double (nullable = true)\n",
      " |-- ISTAX1APPLIED: integer (nullable = true)\n",
      " |-- LINEAMOUNT: double (nullable = true)\n",
      " |-- SIZEID: string (nullable = true)\n",
      " |-- ISSTOCKLOG: string (nullable = true)\n",
      "\n"
     ]
    }
   ],
   "source": [
    "df_txnitems = spark.read.format(\"jdbc\").options(\n",
    "    url =\"jdbc:mysql://localhost:3306/ProjectData?useLegacyDatetimeCode=false&serverTimezone=UTC\",\n",
    "    driver=\"com.mysql.jdbc.Driver\",\n",
    "    dbtable=\"transaction_items\",\n",
    "    user=\"root\",\n",
    "    password=\"theAlchemist\"\n",
    ").load()\n",
    " \n",
    "## register the customers data as a temporary table\n",
    "df_txnitems.registerTempTable(\"txnitems\")\n",
    "df_txnitems.printSchema()"
   ]
  },
  {
   "cell_type": "code",
   "execution_count": 11,
   "metadata": {},
   "outputs": [
    {
     "name": "stdout",
     "output_type": "stream",
     "text": [
      "+-------------------+----------------+-----+--------+\n",
      "|            TXNDATE|           TXNID|  SKU|quantity|\n",
      "+-------------------+----------------+-----+--------+\n",
      "|2017-06-15 07:40:32|1706151139580606|70820|    10.0|\n",
      "|2017-07-04 06:56:32|1707041055576502|63621|     1.0|\n",
      "|2017-07-04 06:56:32|1707041055576502|61242|     1.0|\n",
      "|2017-07-18 10:24:52|1707181424207806|70766|     1.0|\n",
      "|2017-07-19 09:12:10|1707191311481106|71265|     1.0|\n",
      "|2017-07-21 11:43:26|1707211542070806|71280|     1.0|\n",
      "|2017-09-01 11:35:40|1709011535347306|70400|     1.0|\n",
      "|2017-10-23 16:50:11|1710232049559706|71263|     1.0|\n",
      "|2017-11-30 12:11:27|1711301711049302|72878|     1.0|\n",
      "|2017-11-30 12:11:27|1711301711049302|56334|     1.0|\n",
      "|2017-12-01 10:24:40|1712011524107202|73081|     1.0|\n",
      "|2017-12-14 13:08:31|1712141806573502|58357|     1.0|\n",
      "|2017-12-14 13:08:31|1712141806573502|71739|     1.0|\n",
      "|2017-12-14 13:08:31|1712141806573502|71739|     1.0|\n",
      "|2017-12-14 13:08:31|1712141806573502|74740|     1.0|\n",
      "|2017-12-14 13:08:31|1712141806573502|73595|     1.0|\n",
      "|2017-12-14 13:08:31|1712141806573502|63115|     1.0|\n",
      "|2017-12-18 12:16:17|1712181715342002|71540|     1.0|\n",
      "|2017-12-18 12:16:17|1712181715342002|71540|     1.0|\n",
      "|2017-12-22 14:15:29|1712221915109706|71384|     1.0|\n",
      "+-------------------+----------------+-----+--------+\n",
      "only showing top 20 rows\n",
      "\n"
     ]
    }
   ],
   "source": [
    "## join the DataSets\n",
    "sql='''\n",
    "SELECT tinfo.TXNDATE, titems.TXNID, titems.SKU, titems.quantity\n",
    "FROM txninfo tinfo, txnitems titems\n",
    "WHERE tinfo.TXNID = titems.TXNID\n",
    "'''\n",
    " \n",
    "apriori_base = spark.sql(sql)\n",
    "apriori_base.registerTempTable(\"apriori_base\")\n",
    "apriori_base.show()"
   ]
  },
  {
   "cell_type": "code",
   "execution_count": 8,
   "metadata": {},
   "outputs": [
    {
     "data": {
      "text/plain": [
       "DataFrame[TXNITEM_ID: int, SKU: int, TXNID: bigint, ITEMPRICE: double, SELLPRICE: double, QTYBEFORE: string, QUANTITY: double, COST: double, ISTAX1APPLIED: int, LINEAMOUNT: double, SIZEID: string, ISSTOCKLOG: string]"
      ]
     },
     "execution_count": 8,
     "metadata": {},
     "output_type": "execute_result"
    }
   ],
   "source": [
    "df_txnitems"
   ]
  },
  {
   "cell_type": "code",
   "execution_count": 12,
   "metadata": {},
   "outputs": [
    {
     "name": "stdout",
     "output_type": "stream",
     "text": [
      "+-------------------+------------------+-----+--------+\n",
      "|            TXNDATE|             TXNID|  SKU|quantity|\n",
      "+-------------------+------------------+-----+--------+\n",
      "|2017-04-03 13:20:05|170403171807404001|71442|     1.0|\n",
      "|2017-04-03 13:20:05|170403171807404001|71441|     1.0|\n",
      "|2017-04-03 13:20:44|170403172012768701|71442|     1.0|\n",
      "|2017-04-04 04:49:42|170404094858499806|71593|     1.0|\n",
      "|2017-04-04 04:49:42|170404094858499806|71406|     1.0|\n",
      "|2017-04-04 04:49:42|170404094858499806|69455|     1.0|\n",
      "|2017-04-04 09:54:39|170404145408367701|61970|     1.0|\n",
      "|2017-04-04 10:11:39|170404151120372802|61970|     1.0|\n",
      "|2017-04-04 10:45:57|170404154553355001|61970|     1.0|\n",
      "|2017-04-04 11:26:28|170404162621973802|61970|     1.0|\n",
      "|2017-04-04 11:30:09|170404163002826702|68908|     1.0|\n",
      "|2017-04-04 11:31:27|170404163110830602|69846|     1.0|\n",
      "|2017-04-04 11:33:39|170404163332495102|61970|     1.0|\n",
      "|2017-04-04 11:54:49|170404165409730602|70262|     1.0|\n",
      "|2017-04-04 11:54:49|170404165409730602|66179|     1.0|\n",
      "+-------------------+------------------+-----+--------+\n",
      "only showing top 15 rows\n",
      "\n"
     ]
    }
   ],
   "source": [
    "apriori_base.sort(\"TXNDATE\").show(15)"
   ]
  },
  {
   "cell_type": "code",
   "execution_count": 22,
   "metadata": {},
   "outputs": [],
   "source": [
    "apriori_sum = apriori_base.groupBy(\"TXNDATE\", \"TXNID\", \"SKU\").agg(sum(\"quantity\")).sort(\"TXNDATE\")"
   ]
  },
  {
   "cell_type": "code",
   "execution_count": 23,
   "metadata": {},
   "outputs": [
    {
     "name": "stdout",
     "output_type": "stream",
     "text": [
      "+-------------------+------------------+-----+-------------+\n",
      "|            TXNDATE|             TXNID|  SKU|sum(quantity)|\n",
      "+-------------------+------------------+-----+-------------+\n",
      "|2017-04-03 13:20:05|170403171807404001|71441|          1.0|\n",
      "|2017-04-03 13:20:05|170403171807404001|71442|          1.0|\n",
      "|2017-04-03 13:20:44|170403172012768701|71442|          1.0|\n",
      "|2017-04-04 04:49:42|170404094858499806|71593|          1.0|\n",
      "|2017-04-04 04:49:42|170404094858499806|69455|          1.0|\n",
      "|2017-04-04 04:49:42|170404094858499806|71406|          1.0|\n",
      "|2017-04-04 09:54:39|170404145408367701|61970|          1.0|\n",
      "|2017-04-04 10:11:39|170404151120372802|61970|          1.0|\n",
      "|2017-04-04 10:45:57|170404154553355001|61970|          1.0|\n",
      "|2017-04-04 11:26:28|170404162621973802|61970|          1.0|\n",
      "|2017-04-04 11:30:09|170404163002826702|68908|          1.0|\n",
      "|2017-04-04 11:31:27|170404163110830602|69846|          1.0|\n",
      "|2017-04-04 11:33:39|170404163332495102|61970|          1.0|\n",
      "|2017-04-04 11:54:49|170404165409730602|66179|          1.0|\n",
      "|2017-04-04 11:54:49|170404165409730602|70262|          1.0|\n",
      "|2017-04-04 12:17:41|170404171644349302|71323|          2.0|\n",
      "|2017-04-04 12:17:41|170404171644349302|69815|          1.0|\n",
      "|2017-04-04 12:18:45|170404171819493002|66993|          1.0|\n",
      "|2017-04-04 12:19:56|170404171925126402|66980|          1.0|\n",
      "|2017-04-04 12:20:37|170404172001341002|66983|          1.0|\n",
      "|2017-04-04 12:20:37|170404172001341002|65496|          1.0|\n",
      "|2017-04-04 12:32:27|170404173208618602|67737|          2.0|\n",
      "|2017-04-04 12:34:02|170404173346130602|70373|          1.0|\n",
      "|2017-04-04 12:35:15|170404173454844802|71282|          1.0|\n",
      "|2017-04-04 12:40:57|170404174010688402|69060|          1.0|\n",
      "|2017-04-04 12:43:58|170404174337934602|71280|          1.0|\n",
      "|2017-04-04 12:45:18|170404174428189102|68848|          1.0|\n",
      "|2017-04-04 12:45:18|170404174428189102|65563|          1.0|\n",
      "|2017-04-04 12:45:18|170404174428189102|62850|          1.0|\n",
      "|2017-04-04 12:45:18|170404174428189102|68093|          1.0|\n",
      "+-------------------+------------------+-----+-------------+\n",
      "only showing top 30 rows\n",
      "\n"
     ]
    }
   ],
   "source": [
    "apriori_sum.show(30)"
   ]
  },
  {
   "cell_type": "code",
   "execution_count": 27,
   "metadata": {},
   "outputs": [],
   "source": [
    "apriori_jan = apriori_sum.filter(month(\"TXNDATE\") == 1)\n",
    "apriori_feb = apriori_sum.filter(month(\"TXNDATE\") == 2)\n",
    "apriori_mar = apriori_sum.filter(month(\"TXNDATE\") == 3)\n",
    "apriori_apr = apriori_sum.filter(month(\"TXNDATE\") == 4)\n",
    "apriori_may = apriori_sum.filter(month(\"TXNDATE\") == 5)\n",
    "apriori_jun = apriori_sum.filter(month(\"TXNDATE\") == 6)\n",
    "apriori_jul = apriori_sum.filter(month(\"TXNDATE\") == 7)\n",
    "apriori_aug = apriori_sum.filter(month(\"TXNDATE\") == 8)\n",
    "apriori_sep = apriori_sum.filter(month(\"TXNDATE\") == 9)\n",
    "apriori_oct = apriori_sum.filter(month(\"TXNDATE\") == 10)\n",
    "apriori_nov = apriori_sum.filter(month(\"TXNDATE\") == 11)\n",
    "apriori_dec = apriori_sum.filter(month(\"TXNDATE\") == 12)\n"
   ]
  },
  {
   "cell_type": "code",
   "execution_count": 34,
   "metadata": {},
   "outputs": [
    {
     "name": "stdout",
     "output_type": "stream",
     "text": [
      "+-------------+-------------------+\n",
      "|year(TXNDATE)|count(DISTINCT SKU)|\n",
      "+-------------+-------------------+\n",
      "|         2018|               5871|\n",
      "|         2017|                913|\n",
      "+-------------+-------------------+\n",
      "\n"
     ]
    }
   ],
   "source": [
    "apriori_apr.groupby(year(\"TXNDATE\")).agg(countDistinct(\"SKU\")).show()"
   ]
  },
  {
   "cell_type": "code",
   "execution_count": 35,
   "metadata": {},
   "outputs": [
    {
     "data": {
      "text/plain": [
       "83439"
      ]
     },
     "execution_count": 35,
     "metadata": {},
     "output_type": "execute_result"
    }
   ],
   "source": [
    "apriori_may.count()"
   ]
  },
  {
   "cell_type": "code",
   "execution_count": null,
   "metadata": {},
   "outputs": [],
   "source": [
    "# sql='''\n",
    "# SELECT ab.TXNID, ab.SKU, sum(ab.quantity)\n",
    "# FROM apriori_base ab\n",
    "# WHERE ab.TXNDATE BETWEEN '' AND ''\n",
    "# '''\n",
    " \n",
    "# clean_output = spark.sql(sql)\n",
    "# clean_output.printSchema()"
   ]
  },
  {
   "cell_type": "code",
   "execution_count": null,
   "metadata": {},
   "outputs": [],
   "source": [
    "# ## join the DataSets\n",
    "# sql='''\n",
    "# SELECT a.first_name, a.last_name, b.order_number, b.total\n",
    "# FROM customers a, orders b\n",
    "# WHERE a.customer_number = b.customer_number\n",
    "# '''\n",
    " \n",
    "# output = spark.sql(sql)\n",
    " \n",
    "# ## save the data into an ORC file\n",
    "# output.write.format(\"orc\").save(\"/tmp/customer_orders\")"
   ]
  },
  {
   "cell_type": "code",
   "execution_count": 36,
   "metadata": {},
   "outputs": [
    {
     "name": "stdout",
     "output_type": "stream",
     "text": [
      "+----------+-----+------------------+---------+---------+---------+--------+-----+-------------+----------+------+----------+\n",
      "|TXNITEM_ID|  SKU|             TXNID|ITEMPRICE|SELLPRICE|QTYBEFORE|QUANTITY| COST|ISTAX1APPLIED|LINEAMOUNT|SIZEID|ISSTOCKLOG|\n",
      "+----------+-----+------------------+---------+---------+---------+--------+-----+-------------+----------+------+----------+\n",
      "|         1|71441|170403171807404001|    32.99|    27.99|      .00|     1.0|27.25|            1|     27.99|    15|          |\n",
      "|         2|71442|170403171807404001|    16.99|    13.99|      .00|     1.0|13.63|            1|     13.99|    15|          |\n",
      "|         3|71442|170403172012768701|    16.99|    13.99|      .00|     1.0|13.63|            1|     13.99|    15|          |\n",
      "|         4|71593|170404094858499806|     1.17|     1.17|      .00|     1.0|  .72|            1|      1.17|      |          |\n",
      "|         5|71406|170404094858499806|     2.49|     2.49|      .00|     1.0| 1.10|            1|      2.49|      |          |\n",
      "+----------+-----+------------------+---------+---------+---------+--------+-----+-------------+----------+------+----------+\n",
      "only showing top 5 rows\n",
      "\n"
     ]
    }
   ],
   "source": [
    "df_txnitems.show(5)"
   ]
  },
  {
   "cell_type": "code",
   "execution_count": 54,
   "metadata": {},
   "outputs": [
    {
     "name": "stdout",
     "output_type": "stream",
     "text": [
      "+-----+-----+------+--------+\n",
      "|  SKU| Cost|Margin|Quantity|\n",
      "+-----+-----+------+--------+\n",
      "|64423| 8.82| 0.096|   913.0|\n",
      "|58305| 19.5| 0.239|     8.0|\n",
      "|64628| 6.53| 0.266|    56.0|\n",
      "|69352| 7.87| 0.183|   138.0|\n",
      "|71527| 9.59| 0.197|    23.0|\n",
      "|60769|19.25|  0.23|     5.0|\n",
      "|66010| 3.01| 0.298|    71.0|\n",
      "|69478|7.004| 0.269|   207.0|\n",
      "|66166|9.182| 0.077|    53.0|\n",
      "|69637|6.047| 0.327|    32.0|\n",
      "|69454|17.09|  0.05|    34.0|\n",
      "|67089| 9.33| 0.282|     6.0|\n",
      "|64822| 5.33| 0.198|     3.0|\n",
      "|64121| 2.25| 0.355|    79.0|\n",
      "|70097|19.09| 0.045|    38.0|\n",
      "+-----+-----+------+--------+\n",
      "only showing top 15 rows\n",
      "\n"
     ]
    }
   ],
   "source": [
    "ClassFilter = df_txnitems.groupby(\"SKU\").agg(round(avg(\"COST\"),3).alias(\"Cost\"),round(((avg(\"SELLPRICE\")-avg(\"COST\"))/avg(\"SELLPRICE\")),3).alias(\"Margin\"),sum(\"QUANTITY\").alias(\"Quantity\"))\n",
    "ClassFilter.show(15)"
   ]
  },
  {
   "cell_type": "code",
   "execution_count": 53,
   "metadata": {},
   "outputs": [
    {
     "name": "stdout",
     "output_type": "stream",
     "text": [
      "+-----------------------------------------------+\n",
      "|((avg(SELLPRICE) - avg(COST)) / avg(SELLPRICE))|\n",
      "+-----------------------------------------------+\n",
      "|                            0.13216022853298534|\n",
      "+-----------------------------------------------+\n",
      "\n"
     ]
    }
   ],
   "source": [
    "df_txnitems.agg(((avg(\"SELLPRICE\")-avg(\"COST\"))/avg(\"SELLPRICE\"))).show()"
   ]
  },
  {
   "cell_type": "code",
   "execution_count": null,
   "metadata": {},
   "outputs": [],
   "source": []
  }
 ],
 "metadata": {
  "kernelspec": {
   "display_name": "Python 3",
   "language": "python",
   "name": "python3"
  },
  "language_info": {
   "codemirror_mode": {
    "name": "ipython",
    "version": 3
   },
   "file_extension": ".py",
   "mimetype": "text/x-python",
   "name": "python",
   "nbconvert_exporter": "python",
   "pygments_lexer": "ipython3",
   "version": "3.6.4"
  }
 },
 "nbformat": 4,
 "nbformat_minor": 2
}
